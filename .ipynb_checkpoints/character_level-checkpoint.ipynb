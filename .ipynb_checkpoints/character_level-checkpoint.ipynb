{
 "cells": [
  {
   "cell_type": "markdown",
   "metadata": {},
   "source": [
    "### Character-level modelling implementation where model tries to predict the next character in a tweet\n",
    "\n",
    "### Challenge to self: Convert implementation to LSTM to learn how to build models urself"
   ]
  },
  {
   "cell_type": "code",
   "execution_count": 1,
   "metadata": {},
   "outputs": [],
   "source": [
    "import pandas as pd\n",
    "import numpy as np\n",
    "import time\n",
    "import tensorflow as tf"
   ]
  },
  {
   "cell_type": "code",
   "execution_count": 2,
   "metadata": {},
   "outputs": [],
   "source": [
    "data = pd.read_csv(\"dataset.csv\")"
   ]
  },
  {
   "cell_type": "code",
   "execution_count": 3,
   "metadata": {},
   "outputs": [
    {
     "data": {
      "text/html": [
       "<div>\n",
       "<style scoped>\n",
       "    .dataframe tbody tr th:only-of-type {\n",
       "        vertical-align: middle;\n",
       "    }\n",
       "\n",
       "    .dataframe tbody tr th {\n",
       "        vertical-align: top;\n",
       "    }\n",
       "\n",
       "    .dataframe thead th {\n",
       "        text-align: right;\n",
       "    }\n",
       "</style>\n",
       "<table border=\"1\" class=\"dataframe\">\n",
       "  <thead>\n",
       "    <tr style=\"text-align: right;\">\n",
       "      <th></th>\n",
       "      <th>Unnamed: 0</th>\n",
       "      <th>text</th>\n",
       "      <th>date</th>\n",
       "      <th>favorites</th>\n",
       "      <th>retweets</th>\n",
       "      <th>hashtags</th>\n",
       "    </tr>\n",
       "  </thead>\n",
       "  <tbody>\n",
       "    <tr>\n",
       "      <th>0</th>\n",
       "      <td>0</td>\n",
       "      <td>mobius strips are overrated theyre just bracel...</td>\n",
       "      <td>2020-08-03 04:07:12+00:00</td>\n",
       "      <td>5</td>\n",
       "      <td>1</td>\n",
       "      <td>NaN</td>\n",
       "    </tr>\n",
       "    <tr>\n",
       "      <th>1</th>\n",
       "      <td>1</td>\n",
       "      <td>just realized that parasite's ramdon is a case...</td>\n",
       "      <td>2020-07-30 04:16:08+00:00</td>\n",
       "      <td>6</td>\n",
       "      <td>1</td>\n",
       "      <td>NaN</td>\n",
       "    </tr>\n",
       "    <tr>\n",
       "      <th>2</th>\n",
       "      <td>2</td>\n",
       "      <td>We are actually fucked lmao</td>\n",
       "      <td>2020-07-30 03:55:00+00:00</td>\n",
       "      <td>6</td>\n",
       "      <td>1</td>\n",
       "      <td>NaN</td>\n",
       "    </tr>\n",
       "    <tr>\n",
       "      <th>3</th>\n",
       "      <td>6</td>\n",
       "      <td>i think my parents love my dog more than they ...</td>\n",
       "      <td>2020-07-26 16:56:55+00:00</td>\n",
       "      <td>7</td>\n",
       "      <td>1</td>\n",
       "      <td>NaN</td>\n",
       "    </tr>\n",
       "    <tr>\n",
       "      <th>4</th>\n",
       "      <td>7</td>\n",
       "      <td>i think using diesel to disinfect masks is a g...</td>\n",
       "      <td>2020-07-21 09:13:11+00:00</td>\n",
       "      <td>5</td>\n",
       "      <td>1</td>\n",
       "      <td>NaN</td>\n",
       "    </tr>\n",
       "  </tbody>\n",
       "</table>\n",
       "</div>"
      ],
      "text/plain": [
       "   Unnamed: 0                                               text  \\\n",
       "0           0  mobius strips are overrated theyre just bracel...   \n",
       "1           1  just realized that parasite's ramdon is a case...   \n",
       "2           2                        We are actually fucked lmao   \n",
       "3           6  i think my parents love my dog more than they ...   \n",
       "4           7  i think using diesel to disinfect masks is a g...   \n",
       "\n",
       "                        date  favorites  retweets hashtags  \n",
       "0  2020-08-03 04:07:12+00:00          5         1      NaN  \n",
       "1  2020-07-30 04:16:08+00:00          6         1      NaN  \n",
       "2  2020-07-30 03:55:00+00:00          6         1      NaN  \n",
       "3  2020-07-26 16:56:55+00:00          7         1      NaN  \n",
       "4  2020-07-21 09:13:11+00:00          5         1      NaN  "
      ]
     },
     "execution_count": 3,
     "metadata": {},
     "output_type": "execute_result"
    }
   ],
   "source": [
    "data.head()"
   ]
  },
  {
   "cell_type": "code",
   "execution_count": 4,
   "metadata": {},
   "outputs": [
    {
     "data": {
      "text/plain": [
       "count    434.000000\n",
       "mean      90.235023\n",
       "std       49.755523\n",
       "min        9.000000\n",
       "25%       54.250000\n",
       "50%       83.500000\n",
       "75%      115.750000\n",
       "max      279.000000\n",
       "Name: text, dtype: float64"
      ]
     },
     "execution_count": 4,
     "metadata": {},
     "output_type": "execute_result"
    }
   ],
   "source": [
    "data.text.str.len().describe()"
   ]
  },
  {
   "cell_type": "code",
   "execution_count": 5,
   "metadata": {},
   "outputs": [],
   "source": [
    "text = data.text.str.cat(sep=\"\\n\")"
   ]
  },
  {
   "cell_type": "code",
   "execution_count": 6,
   "metadata": {},
   "outputs": [
    {
     "name": "stdout",
     "output_type": "stream",
     "text": [
      "mobius strips are overrated theyre just bracelets that u didnt put on correctly\n",
      "just realized that parasite's ramdon is a case study for barthes' steak and chips thought experiment and now i want to kill myself for thinking abt barthes for fun\n",
      "We are actually fucked lmao\n",
      "i think \n"
     ]
    }
   ],
   "source": [
    "print(text[:280])"
   ]
  },
  {
   "cell_type": "code",
   "execution_count": 7,
   "metadata": {},
   "outputs": [],
   "source": [
    "vocab = sorted(set(text))"
   ]
  },
  {
   "cell_type": "code",
   "execution_count": 8,
   "metadata": {},
   "outputs": [],
   "source": [
    "#vectorizing characters\n",
    "char2idx = {u:i for i, u in enumerate(vocab)}\n",
    "idx2char = np.array(vocab)\n",
    "\n",
    "text_as_int = np.array([char2idx[c] for c in text])"
   ]
  },
  {
   "cell_type": "code",
   "execution_count": 9,
   "metadata": {},
   "outputs": [
    {
     "name": "stdout",
     "output_type": "stream",
     "text": [
      "'mobius strips' ---- characters mapped to int ---- > [69 71 58 65 77 75  1 75 76 74 65 72 75]\n"
     ]
    }
   ],
   "source": [
    "print ('{} ---- characters mapped to int ---- > {}'.format(repr(text[:13]), text_as_int[:13]))"
   ]
  },
  {
   "cell_type": "code",
   "execution_count": 10,
   "metadata": {},
   "outputs": [
    {
     "name": "stdout",
     "output_type": "stream",
     "text": [
      "tf.Tensor(69, shape=(), dtype=int32) :  m\n",
      "tf.Tensor(71, shape=(), dtype=int32) :  o\n",
      "tf.Tensor(58, shape=(), dtype=int32) :  b\n",
      "tf.Tensor(65, shape=(), dtype=int32) :  i\n",
      "tf.Tensor(77, shape=(), dtype=int32) :  u\n"
     ]
    }
   ],
   "source": [
    "#Length of a single input\n",
    "seq_length = 50\n",
    "examples_per_epoch = len(text)\n",
    "\n",
    "#convert to tensor\n",
    "char_dataset = tf.data.Dataset.from_tensor_slices(text_as_int)\n",
    "\n",
    "for i in char_dataset.take(5):\n",
    "    print(i, \": \", idx2char[i.numpy()])"
   ]
  },
  {
   "cell_type": "code",
   "execution_count": 11,
   "metadata": {},
   "outputs": [
    {
     "name": "stdout",
     "output_type": "stream",
     "text": [
      "'mobius strips are overrated theyre just bracelets t'\n",
      "'hat u didnt put on correctly\\njust realized that par'\n",
      "\"asite's ramdon is a case study for barthes' steak a\"\n",
      "'nd chips thought experiment and now i want to kill '\n",
      "'myself for thinking abt barthes for fun\\nWe are actu'\n"
     ]
    }
   ],
   "source": [
    "#Make batches of seq_length\n",
    "sequences = char_dataset.batch(seq_length+1, drop_remainder=True)\n",
    "for item in sequences.take(5):\n",
    "    print(repr(''.join(idx2char[item.numpy()])))"
   ]
  },
  {
   "cell_type": "code",
   "execution_count": 12,
   "metadata": {},
   "outputs": [],
   "source": [
    "#duplicate and shift (make train and target)\n",
    "def split_input_target(chunk):\n",
    "    input_text = chunk[:-1]\n",
    "    target_text = chunk[1:]\n",
    "    return input_text, target_text\n",
    "\n",
    "dataset = sequences.map(split_input_target)"
   ]
  },
  {
   "cell_type": "code",
   "execution_count": 13,
   "metadata": {},
   "outputs": [
    {
     "name": "stdout",
     "output_type": "stream",
     "text": [
      "'mobius strips are overrated theyre just bracelets '\n",
      "'obius strips are overrated theyre just bracelets t' \n",
      "\n"
     ]
    }
   ],
   "source": [
    "#Given [0:99], predict [1:100] \n",
    "for input_example, target_example in dataset.take(1):\n",
    "    print(repr(''.join(idx2char[input_example])))\n",
    "    print(repr(''.join(idx2char[target_example])), \"\\n\")"
   ]
  },
  {
   "cell_type": "code",
   "execution_count": 14,
   "metadata": {},
   "outputs": [
    {
     "name": "stdout",
     "output_type": "stream",
     "text": [
      "Step    0\n",
      "  input: 69 ('m')\n",
      "  expected output: 71 ('o')\n",
      "Step    1\n",
      "  input: 71 ('o')\n",
      "  expected output: 58 ('b')\n",
      "Step    2\n",
      "  input: 58 ('b')\n",
      "  expected output: 65 ('i')\n",
      "Step    3\n",
      "  input: 65 ('i')\n",
      "  expected output: 77 ('u')\n",
      "Step    4\n",
      "  input: 77 ('u')\n",
      "  expected output: 75 ('s')\n"
     ]
    }
   ],
   "source": [
    "#visualization of training task for each rnn unit\n",
    "for i, (input_idx, target_idx) in enumerate(zip(input_example[:5], target_example[:5])):\n",
    "    print(\"Step {:4d}\".format(i))\n",
    "    print(\"  input: {} ({:s})\".format(input_idx, repr(idx2char[input_idx])))\n",
    "    print(\"  expected output: {} ({:s})\".format(target_idx, repr(idx2char[target_idx])))"
   ]
  },
  {
   "cell_type": "code",
   "execution_count": 15,
   "metadata": {},
   "outputs": [],
   "source": [
    "batch_size = 64\n",
    "buffer_size = 10000 #buffer size is for memory i think\n",
    "\n",
    "dataset = dataset.shuffle(buffer_size).batch(batch_size, drop_remainder=True)"
   ]
  },
  {
   "cell_type": "code",
   "execution_count": 16,
   "metadata": {},
   "outputs": [
    {
     "data": {
      "text/plain": [
       "<BatchDataset shapes: ((64, 50), (64, 50)), types: (tf.int32, tf.int32)>"
      ]
     },
     "execution_count": 16,
     "metadata": {},
     "output_type": "execute_result"
    }
   ],
   "source": [
    "#64 training examples of seq length 100\n",
    "dataset"
   ]
  },
  {
   "cell_type": "code",
   "execution_count": 17,
   "metadata": {},
   "outputs": [],
   "source": [
    "#build the thing (Personal task: change to LSTM to learn how to build ur own )\n",
    "def build_model(vocab_size, embedding_dim, rnn_units, batch_size):\n",
    "    model = tf.keras.Sequential([\n",
    "        tf.keras.layers.Embedding(vocab_size, embedding_dim, batch_input_shape=[batch_size, None]),\n",
    "        \n",
    "        tf.keras.layers.LSTM(rnn_units, return_sequences=True, stateful=True),\n",
    "        \n",
    "        tf.keras.layers.LSTM(rnn_units, return_sequences=True, stateful=True),\n",
    "        \n",
    "        tf.keras.layers.LSTM(rnn_units, return_sequences=True, stateful=True),\n",
    "        \n",
    "        tf.keras.layers.Dense(vocab_size) \n",
    "    ])\n",
    "    \n",
    "    return model"
   ]
  },
  {
   "cell_type": "code",
   "execution_count": 18,
   "metadata": {},
   "outputs": [],
   "source": [
    "# Length of the vocabulary in chars\n",
    "vocab_size = len(vocab)\n",
    "\n",
    "# The embedding dimension\n",
    "embedding_dim = 256\n",
    "\n",
    "# Number of RNN units\n",
    "rnn_units = 512"
   ]
  },
  {
   "cell_type": "code",
   "execution_count": 19,
   "metadata": {},
   "outputs": [],
   "source": [
    "model = build_model(vocab_size, embedding_dim, rnn_units, batch_size)"
   ]
  },
  {
   "cell_type": "code",
   "execution_count": 20,
   "metadata": {},
   "outputs": [
    {
     "name": "stdout",
     "output_type": "stream",
     "text": [
      "(64, 50, 83)\n"
     ]
    }
   ],
   "source": [
    "# 64 batch size, 100 seq length per batch, 86 vocab size (unique characters/tokens)\n",
    "for input_example_batch, target_example_batch in dataset.take(1):\n",
    "    example_batch_predictions = model(input_example_batch)\n",
    "    print(example_batch_predictions.shape)"
   ]
  },
  {
   "cell_type": "code",
   "execution_count": 21,
   "metadata": {},
   "outputs": [
    {
     "name": "stdout",
     "output_type": "stream",
     "text": [
      "Model: \"sequential\"\n",
      "_________________________________________________________________\n",
      "Layer (type)                 Output Shape              Param #   \n",
      "=================================================================\n",
      "embedding (Embedding)        (64, None, 256)           21248     \n",
      "_________________________________________________________________\n",
      "lstm (LSTM)                  (64, None, 512)           1574912   \n",
      "_________________________________________________________________\n",
      "lstm_1 (LSTM)                (64, None, 512)           2099200   \n",
      "_________________________________________________________________\n",
      "lstm_2 (LSTM)                (64, None, 512)           2099200   \n",
      "_________________________________________________________________\n",
      "dense (Dense)                (64, None, 83)            42579     \n",
      "=================================================================\n",
      "Total params: 5,837,139\n",
      "Trainable params: 5,837,139\n",
      "Non-trainable params: 0\n",
      "_________________________________________________________________\n"
     ]
    }
   ],
   "source": [
    "model.summary()"
   ]
  },
  {
   "cell_type": "markdown",
   "metadata": {},
   "source": [
    "### Training\n",
    "With the setup of RNN, text generation will be treated like a basic supervised classification problem (given char x, predict char y), meaning we can use standard backprop rules and loss functions (cross entropy)"
   ]
  },
  {
   "cell_type": "code",
   "execution_count": 22,
   "metadata": {},
   "outputs": [],
   "source": [
    "#loss function\n",
    "def loss(labels, logits):\n",
    "    return tf.keras.losses.sparse_categorical_crossentropy(labels, logits, from_logits=True)"
   ]
  },
  {
   "cell_type": "code",
   "execution_count": 23,
   "metadata": {},
   "outputs": [],
   "source": [
    "example_batch_loss = loss(target_example_batch, example_batch_predictions)"
   ]
  },
  {
   "cell_type": "code",
   "execution_count": 24,
   "metadata": {},
   "outputs": [
    {
     "name": "stdout",
     "output_type": "stream",
     "text": [
      "Prediction shape:  (64, 50, 83)  # (batch_size, sequence_length, vocab_size)\n",
      "scalar_loss:       4.4192004\n"
     ]
    }
   ],
   "source": [
    "#mean loss for the batch of 64 is 4.45\n",
    "print(\"Prediction shape: \", example_batch_predictions.shape, \" # (batch_size, sequence_length, vocab_size)\")\n",
    "print(\"scalar_loss:      \", example_batch_loss.numpy().mean())"
   ]
  },
  {
   "cell_type": "code",
   "execution_count": 25,
   "metadata": {},
   "outputs": [],
   "source": [
    "#Saving checkpoints (remember this lol)\n",
    "import os\n",
    "\n",
    "checkpoint_dir = 'D:/garbage_models/twitterbot'\n",
    "\n",
    "checkpoint_prefix = os.path.join(checkpoint_dir, \"ckpt_{epoch}\")\n",
    "\n",
    "#saves weights in directory\n",
    "checkpoint_callback = tf.keras.callbacks.ModelCheckpoint(\n",
    "    filepath = checkpoint_prefix,\n",
    "    save_weights_only = True\n",
    ")\n"
   ]
  },
  {
   "cell_type": "code",
   "execution_count": 26,
   "metadata": {},
   "outputs": [],
   "source": [
    "#compile model (adam optimizer because why not, loss = loss function)\n",
    "model.compile(optimizer=\"adam\", loss=loss)"
   ]
  },
  {
   "cell_type": "code",
   "execution_count": 27,
   "metadata": {},
   "outputs": [
    {
     "name": "stdout",
     "output_type": "stream",
     "text": [
      "Train for 12 steps\n",
      "Epoch 1/200\n",
      "12/12 [==============================] - 4s 310ms/step - loss: 3.6331\n",
      "Epoch 2/200\n",
      "12/12 [==============================] - 1s 45ms/step - loss: 3.1552\n",
      "Epoch 3/200\n",
      "12/12 [==============================] - 1s 45ms/step - loss: 3.1339\n",
      "Epoch 4/200\n",
      "12/12 [==============================] - 1s 46ms/step - loss: 3.1292\n",
      "Epoch 5/200\n",
      "12/12 [==============================] - 1s 46ms/step - loss: 3.1256\n",
      "Epoch 6/200\n",
      "12/12 [==============================] - 1s 45ms/step - loss: 3.1573\n",
      "Epoch 7/200\n",
      "12/12 [==============================] - 1s 45ms/step - loss: 3.1023\n",
      "Epoch 8/200\n",
      "12/12 [==============================] - 1s 45ms/step - loss: 3.0715\n",
      "Epoch 9/200\n",
      "12/12 [==============================] - 1s 45ms/step - loss: 3.0207\n",
      "Epoch 10/200\n",
      "12/12 [==============================] - 1s 49ms/step - loss: 2.9619\n",
      "Epoch 11/200\n",
      "12/12 [==============================] - 1s 45ms/step - loss: 2.9037\n",
      "Epoch 12/200\n",
      "12/12 [==============================] - 1s 49ms/step - loss: 2.8622\n",
      "Epoch 13/200\n",
      "12/12 [==============================] - 1s 46ms/step - loss: 2.8273\n",
      "Epoch 14/200\n",
      "12/12 [==============================] - 1s 45ms/step - loss: 2.7943\n",
      "Epoch 15/200\n",
      "12/12 [==============================] - 1s 45ms/step - loss: 2.7555\n",
      "Epoch 16/200\n",
      "12/12 [==============================] - 1s 45ms/step - loss: 2.6753\n",
      "Epoch 17/200\n",
      "12/12 [==============================] - 1s 45ms/step - loss: 2.5840\n",
      "Epoch 18/200\n",
      "12/12 [==============================] - 1s 45ms/step - loss: 2.5262\n",
      "Epoch 19/200\n",
      "12/12 [==============================] - 1s 45ms/step - loss: 2.4760\n",
      "Epoch 20/200\n",
      "12/12 [==============================] - 1s 45ms/step - loss: 2.4373\n",
      "Epoch 21/200\n",
      "12/12 [==============================] - 1s 47ms/step - loss: 2.4046\n",
      "Epoch 22/200\n",
      "12/12 [==============================] - 1s 50ms/step - loss: 2.3623\n",
      "Epoch 23/200\n",
      "12/12 [==============================] - 1s 45ms/step - loss: 2.3206\n",
      "Epoch 24/200\n",
      "12/12 [==============================] - 1s 45ms/step - loss: 2.2806\n",
      "Epoch 25/200\n",
      "12/12 [==============================] - 1s 45ms/step - loss: 2.2423\n",
      "Epoch 26/200\n",
      "12/12 [==============================] - 1s 45ms/step - loss: 2.1961\n",
      "Epoch 27/200\n",
      "12/12 [==============================] - 1s 48ms/step - loss: 2.1557\n",
      "Epoch 28/200\n",
      "12/12 [==============================] - 1s 48ms/step - loss: 2.1171\n",
      "Epoch 29/200\n",
      "12/12 [==============================] - 1s 47ms/step - loss: 2.0703\n",
      "Epoch 30/200\n",
      "12/12 [==============================] - 1s 46ms/step - loss: 2.0275\n",
      "Epoch 31/200\n",
      "12/12 [==============================] - 1s 48ms/step - loss: 1.9843\n",
      "Epoch 32/200\n",
      "12/12 [==============================] - 1s 44ms/step - loss: 1.9425\n",
      "Epoch 33/200\n",
      "12/12 [==============================] - 1s 45ms/step - loss: 1.8880\n",
      "Epoch 34/200\n",
      "12/12 [==============================] - 1s 45ms/step - loss: 1.8369\n",
      "Epoch 35/200\n",
      "12/12 [==============================] - 1s 45ms/step - loss: 1.7871\n",
      "Epoch 36/200\n",
      "12/12 [==============================] - 1s 45ms/step - loss: 1.7372\n",
      "Epoch 37/200\n",
      "12/12 [==============================] - 1s 45ms/step - loss: 1.6800\n",
      "Epoch 38/200\n",
      "12/12 [==============================] - 1s 47ms/step - loss: 1.6240\n",
      "Epoch 39/200\n",
      "12/12 [==============================] - 1s 46ms/step - loss: 1.5713\n",
      "Epoch 40/200\n",
      "12/12 [==============================] - 1s 45ms/step - loss: 1.5069\n",
      "Epoch 41/200\n",
      "12/12 [==============================] - 1s 46ms/step - loss: 1.4423\n",
      "Epoch 42/200\n",
      "12/12 [==============================] - 1s 45ms/step - loss: 1.3797\n",
      "Epoch 43/200\n",
      "12/12 [==============================] - 1s 45ms/step - loss: 1.3122\n",
      "Epoch 44/200\n",
      "12/12 [==============================] - 1s 47ms/step - loss: 1.2471\n",
      "Epoch 45/200\n",
      "12/12 [==============================] - 1s 49ms/step - loss: 1.1809\n",
      "Epoch 46/200\n",
      "12/12 [==============================] - 1s 46ms/step - loss: 1.1117\n",
      "Epoch 47/200\n",
      "12/12 [==============================] - 1s 46ms/step - loss: 1.0491\n",
      "Epoch 48/200\n",
      "12/12 [==============================] - 1s 45ms/step - loss: 0.9898\n",
      "Epoch 49/200\n",
      "12/12 [==============================] - 1s 45ms/step - loss: 0.9225\n",
      "Epoch 50/200\n",
      "12/12 [==============================] - 1s 45ms/step - loss: 0.8681\n",
      "Epoch 51/200\n",
      "12/12 [==============================] - 1s 45ms/step - loss: 0.8116\n",
      "Epoch 52/200\n",
      "12/12 [==============================] - 1s 45ms/step - loss: 0.7530\n",
      "Epoch 53/200\n",
      "12/12 [==============================] - 1s 47ms/step - loss: 0.7122\n",
      "Epoch 54/200\n",
      "12/12 [==============================] - 1s 45ms/step - loss: 0.6702\n",
      "Epoch 55/200\n",
      "12/12 [==============================] - 1s 46ms/step - loss: 0.6384\n",
      "Epoch 56/200\n",
      "12/12 [==============================] - 1s 46ms/step - loss: 0.6042\n",
      "Epoch 57/200\n",
      "12/12 [==============================] - 1s 45ms/step - loss: 0.5706\n",
      "Epoch 58/200\n",
      "12/12 [==============================] - 1s 45ms/step - loss: 0.5463\n",
      "Epoch 59/200\n",
      "12/12 [==============================] - 1s 45ms/step - loss: 0.5162\n",
      "Epoch 60/200\n",
      "12/12 [==============================] - 1s 45ms/step - loss: 0.4998\n",
      "Epoch 61/200\n",
      "12/12 [==============================] - 1s 45ms/step - loss: 0.4816\n",
      "Epoch 62/200\n",
      "12/12 [==============================] - 1s 47ms/step - loss: 0.4654\n",
      "Epoch 63/200\n",
      "12/12 [==============================] - 1s 45ms/step - loss: 0.4465\n",
      "Epoch 64/200\n",
      "12/12 [==============================] - 1s 45ms/step - loss: 0.4307\n",
      "Epoch 65/200\n",
      "12/12 [==============================] - 1s 45ms/step - loss: 0.4201\n",
      "Epoch 66/200\n",
      "12/12 [==============================] - 1s 46ms/step - loss: 0.4083\n",
      "Epoch 67/200\n",
      "12/12 [==============================] - 1s 45ms/step - loss: 0.3964\n",
      "Epoch 68/200\n",
      "12/12 [==============================] - 1s 45ms/step - loss: 0.3859\n",
      "Epoch 69/200\n",
      "12/12 [==============================] - 1s 47ms/step - loss: 0.3737\n",
      "Epoch 70/200\n",
      "12/12 [==============================] - 1s 46ms/step - loss: 0.3707\n",
      "Epoch 71/200\n",
      "12/12 [==============================] - 1s 45ms/step - loss: 0.3658\n",
      "Epoch 72/200\n",
      "12/12 [==============================] - 1s 46ms/step - loss: 0.3615\n",
      "Epoch 73/200\n",
      "12/12 [==============================] - 1s 46ms/step - loss: 0.3455\n",
      "Epoch 74/200\n",
      "12/12 [==============================] - 1s 46ms/step - loss: 0.3441\n",
      "Epoch 75/200\n",
      "12/12 [==============================] - 1s 45ms/step - loss: 0.3379\n",
      "Epoch 76/200\n",
      "12/12 [==============================] - 1s 44ms/step - loss: 0.3320\n",
      "Epoch 77/200\n",
      "12/12 [==============================] - 1s 46ms/step - loss: 0.3281\n",
      "Epoch 78/200\n",
      "12/12 [==============================] - 1s 46ms/step - loss: 0.3241\n",
      "Epoch 79/200\n",
      "12/12 [==============================] - 1s 46ms/step - loss: 0.3182\n",
      "Epoch 80/200\n",
      "12/12 [==============================] - 1s 46ms/step - loss: 0.3151\n",
      "Epoch 81/200\n",
      "12/12 [==============================] - 1s 45ms/step - loss: 0.3062\n",
      "Epoch 82/200\n",
      "12/12 [==============================] - 1s 45ms/step - loss: 0.3054\n",
      "Epoch 83/200\n",
      "12/12 [==============================] - 1s 46ms/step - loss: 0.3018\n",
      "Epoch 84/200\n",
      "12/12 [==============================] - 1s 46ms/step - loss: 0.2994\n",
      "Epoch 85/200\n",
      "12/12 [==============================] - 1s 46ms/step - loss: 0.2944\n",
      "Epoch 86/200\n",
      "12/12 [==============================] - 1s 46ms/step - loss: 0.2914\n",
      "Epoch 87/200\n",
      "12/12 [==============================] - 1s 46ms/step - loss: 0.2881\n",
      "Epoch 88/200\n",
      "12/12 [==============================] - 1s 47ms/step - loss: 0.2862\n",
      "Epoch 89/200\n",
      "12/12 [==============================] - 1s 45ms/step - loss: 0.2877\n",
      "Epoch 90/200\n",
      "12/12 [==============================] - 1s 46ms/step - loss: 0.2780\n",
      "Epoch 91/200\n",
      "12/12 [==============================] - 1s 45ms/step - loss: 0.2782\n",
      "Epoch 92/200\n",
      "12/12 [==============================] - 1s 45ms/step - loss: 0.2761\n",
      "Epoch 93/200\n",
      "12/12 [==============================] - 1s 45ms/step - loss: 0.2705\n",
      "Epoch 94/200\n",
      "12/12 [==============================] - 1s 46ms/step - loss: 0.2709\n",
      "Epoch 95/200\n",
      "12/12 [==============================] - 1s 46ms/step - loss: 0.2663\n",
      "Epoch 96/200\n",
      "12/12 [==============================] - 1s 46ms/step - loss: 0.2633\n",
      "Epoch 97/200\n",
      "12/12 [==============================] - 1s 46ms/step - loss: 0.2667\n",
      "Epoch 98/200\n",
      "12/12 [==============================] - 1s 46ms/step - loss: 0.2566\n",
      "Epoch 99/200\n",
      "12/12 [==============================] - 1s 46ms/step - loss: 0.2606\n",
      "Epoch 100/200\n",
      "12/12 [==============================] - 1s 47ms/step - loss: 0.2588\n",
      "Epoch 101/200\n",
      "12/12 [==============================] - 1s 45ms/step - loss: 0.2511\n",
      "Epoch 102/200\n",
      "12/12 [==============================] - 1s 45ms/step - loss: 0.2516\n",
      "Epoch 103/200\n",
      "12/12 [==============================] - 1s 46ms/step - loss: 0.2514\n",
      "Epoch 104/200\n",
      "12/12 [==============================] - 1s 46ms/step - loss: 0.2506\n",
      "Epoch 105/200\n",
      "12/12 [==============================] - 1s 46ms/step - loss: 0.2479\n",
      "Epoch 106/200\n",
      "12/12 [==============================] - 1s 46ms/step - loss: 0.2446\n",
      "Epoch 107/200\n",
      "12/12 [==============================] - 1s 46ms/step - loss: 0.2459\n",
      "Epoch 108/200\n",
      "12/12 [==============================] - 1s 45ms/step - loss: 0.2399\n",
      "Epoch 109/200\n",
      "12/12 [==============================] - 1s 46ms/step - loss: 0.2378\n",
      "Epoch 110/200\n",
      "12/12 [==============================] - 1s 46ms/step - loss: 0.2367\n",
      "Epoch 111/200\n",
      "12/12 [==============================] - 1s 46ms/step - loss: 0.2341\n",
      "Epoch 112/200\n",
      "12/12 [==============================] - 1s 46ms/step - loss: 0.2317\n",
      "Epoch 113/200\n",
      "12/12 [==============================] - 1s 46ms/step - loss: 0.2296\n",
      "Epoch 114/200\n",
      "12/12 [==============================] - 1s 46ms/step - loss: 0.2325\n",
      "Epoch 115/200\n",
      "12/12 [==============================] - 1s 48ms/step - loss: 0.2265\n",
      "Epoch 116/200\n",
      "12/12 [==============================] - 1s 47ms/step - loss: 0.2281\n",
      "Epoch 117/200\n",
      "12/12 [==============================] - 1s 46ms/step - loss: 0.2307\n",
      "Epoch 118/200\n",
      "12/12 [==============================] - 1s 46ms/step - loss: 0.2205\n",
      "Epoch 119/200\n",
      "12/12 [==============================] - 1s 47ms/step - loss: 0.2224\n",
      "Epoch 120/200\n",
      "12/12 [==============================] - 1s 47ms/step - loss: 0.2312\n",
      "Epoch 121/200\n",
      "12/12 [==============================] - 1s 46ms/step - loss: 0.2265\n",
      "Epoch 122/200\n",
      "12/12 [==============================] - 1s 47ms/step - loss: 0.2220\n",
      "Epoch 123/200\n",
      "12/12 [==============================] - 1s 47ms/step - loss: 0.2213\n",
      "Epoch 124/200\n",
      "12/12 [==============================] - 1s 46ms/step - loss: 0.2165\n",
      "Epoch 125/200\n",
      "12/12 [==============================] - 1s 47ms/step - loss: 0.2168\n",
      "Epoch 126/200\n",
      "12/12 [==============================] - 1s 47ms/step - loss: 0.2200\n",
      "Epoch 127/200\n",
      "12/12 [==============================] - 1s 46ms/step - loss: 0.2161\n",
      "Epoch 128/200\n",
      "12/12 [==============================] - 1s 49ms/step - loss: 0.2129\n",
      "Epoch 129/200\n",
      "12/12 [==============================] - 1s 46ms/step - loss: 0.2148\n",
      "Epoch 130/200\n",
      "12/12 [==============================] - 1s 48ms/step - loss: 0.2100\n",
      "Epoch 131/200\n",
      "12/12 [==============================] - 1s 47ms/step - loss: 0.2104\n",
      "Epoch 132/200\n",
      "12/12 [==============================] - 1s 46ms/step - loss: 0.2101\n",
      "Epoch 133/200\n",
      "12/12 [==============================] - 1s 46ms/step - loss: 0.2078\n",
      "Epoch 134/200\n",
      "12/12 [==============================] - 1s 47ms/step - loss: 0.2084\n",
      "Epoch 135/200\n",
      "12/12 [==============================] - 1s 47ms/step - loss: 0.2058\n",
      "Epoch 136/200\n",
      "12/12 [==============================] - 1s 47ms/step - loss: 0.2073\n",
      "Epoch 137/200\n",
      "12/12 [==============================] - 1s 47ms/step - loss: 0.2026\n",
      "Epoch 138/200\n",
      "12/12 [==============================] - 1s 47ms/step - loss: 0.2017\n",
      "Epoch 139/200\n",
      "12/12 [==============================] - 1s 47ms/step - loss: 0.2004\n",
      "Epoch 140/200\n",
      "12/12 [==============================] - 1s 48ms/step - loss: 0.2028\n",
      "Epoch 141/200\n",
      "12/12 [==============================] - 1s 48ms/step - loss: 0.2020\n",
      "Epoch 142/200\n",
      "12/12 [==============================] - 1s 47ms/step - loss: 0.2006\n",
      "Epoch 143/200\n",
      "12/12 [==============================] - 1s 46ms/step - loss: 0.1973\n",
      "Epoch 144/200\n",
      "12/12 [==============================] - 1s 48ms/step - loss: 0.1985\n",
      "Epoch 145/200\n",
      "12/12 [==============================] - 1s 48ms/step - loss: 0.1999\n",
      "Epoch 146/200\n",
      "12/12 [==============================] - 1s 47ms/step - loss: 0.1972\n",
      "Epoch 147/200\n",
      "12/12 [==============================] - 1s 47ms/step - loss: 0.1942\n",
      "Epoch 148/200\n",
      "12/12 [==============================] - 1s 48ms/step - loss: 0.1939\n",
      "Epoch 149/200\n",
      "12/12 [==============================] - 1s 48ms/step - loss: 0.1945\n",
      "Epoch 150/200\n",
      "12/12 [==============================] - 1s 47ms/step - loss: 0.1914\n",
      "Epoch 151/200\n",
      "12/12 [==============================] - 1s 47ms/step - loss: 0.1951\n",
      "Epoch 152/200\n",
      "12/12 [==============================] - 1s 48ms/step - loss: 0.1961\n",
      "Epoch 153/200\n",
      "12/12 [==============================] - 1s 47ms/step - loss: 0.1956\n",
      "Epoch 154/200\n",
      "12/12 [==============================] - 1s 48ms/step - loss: 0.1916\n",
      "Epoch 155/200\n",
      "12/12 [==============================] - 1s 48ms/step - loss: 0.1933\n",
      "Epoch 156/200\n",
      "12/12 [==============================] - 1s 49ms/step - loss: 0.1944\n",
      "Epoch 157/200\n",
      "12/12 [==============================] - 1s 48ms/step - loss: 0.1927\n",
      "Epoch 158/200\n",
      "12/12 [==============================] - 1s 48ms/step - loss: 0.1907\n",
      "Epoch 159/200\n",
      "12/12 [==============================] - 1s 48ms/step - loss: 0.1881\n",
      "Epoch 160/200\n",
      "12/12 [==============================] - 1s 49ms/step - loss: 0.1890\n",
      "Epoch 161/200\n",
      "12/12 [==============================] - 1s 48ms/step - loss: 0.1860\n",
      "Epoch 162/200\n",
      "12/12 [==============================] - 1s 48ms/step - loss: 0.1862\n",
      "Epoch 163/200\n",
      "12/12 [==============================] - 1s 48ms/step - loss: 0.1866\n",
      "Epoch 164/200\n",
      "12/12 [==============================] - 1s 48ms/step - loss: 0.1829\n",
      "Epoch 165/200\n",
      "12/12 [==============================] - 1s 48ms/step - loss: 0.1838\n",
      "Epoch 166/200\n",
      "12/12 [==============================] - 1s 47ms/step - loss: 0.1849\n",
      "Epoch 167/200\n",
      "12/12 [==============================] - 1s 48ms/step - loss: 0.1806\n",
      "Epoch 168/200\n",
      "12/12 [==============================] - 1s 48ms/step - loss: 0.1807\n",
      "Epoch 169/200\n",
      "12/12 [==============================] - 1s 49ms/step - loss: 0.1813\n",
      "Epoch 170/200\n",
      "12/12 [==============================] - 1s 48ms/step - loss: 0.1775\n",
      "Epoch 171/200\n",
      "12/12 [==============================] - 1s 49ms/step - loss: 0.1819\n",
      "Epoch 172/200\n",
      "12/12 [==============================] - 1s 48ms/step - loss: 0.1799\n",
      "Epoch 173/200\n",
      "12/12 [==============================] - 1s 47ms/step - loss: 0.1837\n",
      "Epoch 174/200\n",
      "12/12 [==============================] - 1s 52ms/step - loss: 0.1797\n",
      "Epoch 175/200\n",
      "12/12 [==============================] - 1s 48ms/step - loss: 0.1804\n",
      "Epoch 176/200\n",
      "12/12 [==============================] - 1s 49ms/step - loss: 0.1797\n",
      "Epoch 177/200\n",
      "12/12 [==============================] - 1s 48ms/step - loss: 0.1777\n",
      "Epoch 178/200\n",
      "12/12 [==============================] - 1s 50ms/step - loss: 0.1795\n",
      "Epoch 179/200\n",
      "12/12 [==============================] - 1s 48ms/step - loss: 0.1780\n",
      "Epoch 180/200\n",
      "12/12 [==============================] - 1s 49ms/step - loss: 0.1789\n",
      "Epoch 181/200\n",
      "12/12 [==============================] - 1s 48ms/step - loss: 0.1772\n",
      "Epoch 182/200\n",
      "12/12 [==============================] - 1s 48ms/step - loss: 0.1747\n",
      "Epoch 183/200\n",
      "12/12 [==============================] - 1s 48ms/step - loss: 0.1760\n",
      "Epoch 184/200\n",
      "12/12 [==============================] - 1s 48ms/step - loss: 0.1755\n",
      "Epoch 185/200\n",
      "12/12 [==============================] - 1s 48ms/step - loss: 0.1712\n",
      "Epoch 186/200\n",
      "12/12 [==============================] - 1s 48ms/step - loss: 0.1748\n",
      "Epoch 187/200\n",
      "12/12 [==============================] - 1s 48ms/step - loss: 0.1683\n",
      "Epoch 188/200\n",
      "12/12 [==============================] - 1s 48ms/step - loss: 0.1719\n",
      "Epoch 189/200\n",
      "12/12 [==============================] - 1s 48ms/step - loss: 0.1685\n",
      "Epoch 190/200\n",
      "12/12 [==============================] - 1s 48ms/step - loss: 0.1706\n",
      "Epoch 191/200\n",
      "12/12 [==============================] - 1s 49ms/step - loss: 0.1751\n",
      "Epoch 192/200\n",
      "12/12 [==============================] - 1s 48ms/step - loss: 0.1701\n",
      "Epoch 193/200\n",
      "12/12 [==============================] - 1s 48ms/step - loss: 0.1709\n",
      "Epoch 194/200\n",
      "12/12 [==============================] - 1s 49ms/step - loss: 0.1708\n",
      "Epoch 195/200\n",
      "12/12 [==============================] - 1s 49ms/step - loss: 0.1697\n",
      "Epoch 196/200\n",
      "12/12 [==============================] - 1s 48ms/step - loss: 0.1641\n",
      "Epoch 197/200\n",
      "12/12 [==============================] - 1s 48ms/step - loss: 0.1655\n",
      "Epoch 198/200\n",
      "12/12 [==============================] - 1s 49ms/step - loss: 0.1695\n",
      "Epoch 199/200\n",
      "12/12 [==============================] - 1s 49ms/step - loss: 0.1646\n",
      "Epoch 200/200\n",
      "12/12 [==============================] - 1s 48ms/step - loss: 0.1706\n"
     ]
    }
   ],
   "source": [
    "epochs = 200\n",
    "#train the model (training set, number of epochs, callback for saving checkpoints)\n",
    "history = model.fit(dataset, epochs=epochs)"
   ]
  },
  {
   "cell_type": "code",
   "execution_count": 30,
   "metadata": {},
   "outputs": [],
   "source": [
    "# prediction step will use batch size 1 because rnns take in input by a fixed batch size\n",
    "# so its necessary to run it with a different batch size of 1 since our task is to predict the next character\n",
    "# tf.train.latest_checkpoint(checkpoint_dir)\n",
    "model.save_weights('./model')"
   ]
  },
  {
   "cell_type": "code",
   "execution_count": 31,
   "metadata": {},
   "outputs": [],
   "source": [
    "#import weights to model \n",
    "model = build_model(vocab_size, embedding_dim, rnn_units, batch_size=1)\n",
    "# model.load_weights(tf.train.latest_checkpoint(checkpoint_dir))\n",
    "model.load_weights('./model')\n",
    "model.build(tf.TensorShape([1, None])) "
   ]
  },
  {
   "cell_type": "code",
   "execution_count": 32,
   "metadata": {},
   "outputs": [
    {
     "name": "stdout",
     "output_type": "stream",
     "text": [
      "Model: \"sequential_1\"\n",
      "_________________________________________________________________\n",
      "Layer (type)                 Output Shape              Param #   \n",
      "=================================================================\n",
      "embedding_1 (Embedding)      (1, None, 256)            21248     \n",
      "_________________________________________________________________\n",
      "lstm_3 (LSTM)                (1, None, 512)            1574912   \n",
      "_________________________________________________________________\n",
      "lstm_4 (LSTM)                (1, None, 512)            2099200   \n",
      "_________________________________________________________________\n",
      "lstm_5 (LSTM)                (1, None, 512)            2099200   \n",
      "_________________________________________________________________\n",
      "dense_1 (Dense)              (1, None, 83)             42579     \n",
      "=================================================================\n",
      "Total params: 5,837,139\n",
      "Trainable params: 5,837,139\n",
      "Non-trainable params: 0\n",
      "_________________________________________________________________\n"
     ]
    }
   ],
   "source": [
    "model.summary()"
   ]
  },
  {
   "cell_type": "markdown",
   "metadata": {},
   "source": [
    "### Prediction Loop\n",
    "Set starting string, <br>\n",
    "Get next character using prediction distribution, <br>\n",
    "Next character is used as input, <br>\n",
    "repeat until size reached <br>\n",
    "<br>\n",
    "note that because an rnn has more info, the state changes and gets context from previous timesteps"
   ]
  },
  {
   "cell_type": "code",
   "execution_count": 33,
   "metadata": {},
   "outputs": [],
   "source": [
    "def generate_text(model, start_string):\n",
    "    #number of characters to generate\n",
    "    num_generate = 300\n",
    "    \n",
    "    #vectorize start string to number\n",
    "    input_eval = [char2idx[s] for s in start_string]\n",
    "    input_eval = tf.expand_dims(input_eval, 0) #converts to tensor batch i think? \n",
    "    \n",
    "    #results\n",
    "    output = []\n",
    "    \n",
    "    #Adjust temperature for predictability (higher for more surprising text (idk either))\n",
    "    temperature = 1.0\n",
    "    \n",
    "    model.reset_states()\n",
    "    for i in range(num_generate):\n",
    "        predictions = model(input_eval)\n",
    "        \n",
    "        #remove batch dimension\n",
    "        predictions = tf.squeeze(predictions, 0)\n",
    "        \n",
    "        #next character from categorical distribution\n",
    "        predictions = predictions/temperature\n",
    "        predicted_id = tf.random.categorical(predictions, num_samples=1)[-1, 0].numpy()\n",
    "        \n",
    "        #preedicted character = next input\n",
    "        input_eval = tf.expand_dims([predicted_id], 0)\n",
    "        \n",
    "        output.append(idx2char[predicted_id])\n",
    "        \n",
    "    return (start_string + ''.join(output))"
   ]
  },
  {
   "cell_type": "code",
   "execution_count": 34,
   "metadata": {},
   "outputs": [
    {
     "data": {
      "text/plain": [
       "'ads\\nthere\\'s alvadoat have a box plot option on gsheets????????\\nFunny mems kaory by joure\" \"morking mahing gat\\nFon CODE the russian revolution and not be about communisme hungry for lechon\\nAre you telling me that I finished im laptop how to interacc pose\\nshare, and the one time it finally happens it\\'s'"
      ]
     },
     "execution_count": 34,
     "metadata": {},
     "output_type": "execute_result"
    }
   ],
   "source": [
    "generate_text(model, \"a\")"
   ]
  },
  {
   "cell_type": "code",
   "execution_count": null,
   "metadata": {},
   "outputs": [],
   "source": []
  }
 ],
 "metadata": {
  "kernelspec": {
   "display_name": "GPU Tensorflow",
   "language": "python",
   "name": "tf_gpu"
  },
  "language_info": {
   "codemirror_mode": {
    "name": "ipython",
    "version": 3
   },
   "file_extension": ".py",
   "mimetype": "text/x-python",
   "name": "python",
   "nbconvert_exporter": "python",
   "pygments_lexer": "ipython3",
   "version": "3.7.7"
  }
 },
 "nbformat": 4,
 "nbformat_minor": 4
}
