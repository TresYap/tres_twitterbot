{
 "cells": [
  {
   "cell_type": "code",
   "execution_count": 1,
   "metadata": {},
   "outputs": [],
   "source": [
    "#test if the shit works\n",
    "import GetOldTweets3 as got\n",
    "import pandas as pd\n",
    "import numpy as np"
   ]
  },
  {
   "cell_type": "code",
   "execution_count": 2,
   "metadata": {},
   "outputs": [],
   "source": [
    "def scrape_tweets (username, start_date, top_tweets):\n",
    "    tweetCriteria = got.manager.TweetCriteria().setUsername(username)\\\n",
    "                                            .setTopTweets(top_tweets)\\\n",
    "                                            .setSince(start_date)\n",
    "    tweets = got.manager.TweetManager.getTweets(tweetCriteria)\n",
    "\n",
    "    user_tweets = [[tweet.text, tweet.date, tweet.favorites, tweet.retweets, tweet.hashtags] for tweet in tweets]\n",
    "    tweet_df = pd.DataFrame(user_tweets, columns=[\"text\", \"date\", \"favorites\", \"retweets\", \"hashtags\"])\n",
    "    return tweet_df"
   ]
  },
  {
   "cell_type": "code",
   "execution_count": 3,
   "metadata": {},
   "outputs": [
    {
     "name": "stdout",
     "output_type": "stream",
     "text": [
      "Wall time: 2min 45s\n"
     ]
    }
   ],
   "source": [
    "%%time\n",
    "tweet_df = scrape_tweets(\"Treysessy\", \"2018-01-01\", True)"
   ]
  },
  {
   "cell_type": "code",
   "execution_count": 4,
   "metadata": {},
   "outputs": [
    {
     "data": {
      "text/plain": [
       "(988, 5)"
      ]
     },
     "execution_count": 4,
     "metadata": {},
     "output_type": "execute_result"
    }
   ],
   "source": [
    "tweet_df.shape"
   ]
  },
  {
   "cell_type": "code",
   "execution_count": 5,
   "metadata": {},
   "outputs": [],
   "source": [
    "favorites = tweet_df[tweet_df.favorites >= 5]"
   ]
  },
  {
   "cell_type": "code",
   "execution_count": 6,
   "metadata": {},
   "outputs": [
    {
     "data": {
      "text/plain": [
       "'solid i havent started on anything im gonna die'"
      ]
     },
     "execution_count": 6,
     "metadata": {},
     "output_type": "execute_result"
    }
   ],
   "source": [
    "tweet_df.iloc[832].text"
   ]
  },
  {
   "cell_type": "code",
   "execution_count": 7,
   "metadata": {},
   "outputs": [
    {
     "data": {
      "text/plain": [
       "890                           ps4 how much i've missed u\n",
       "454    The goal is to get through the semester withou...\n",
       "965      Fuck school hasnt started but im tapping out na\n",
       "720    Ride your mom to stop biblical angels in the f...\n",
       "678                          Im 13 and i hate my parents\n",
       "401    the truth is i'm just overrated and open my mo...\n",
       "554    some questions you just cant find an answer to...\n",
       "715    My mom and sister turned the hedgehog into a m...\n",
       "388    after i finished ranting to my sister about ho...\n",
       "390    i make depressing tweets at 3 am because i wan...\n",
       "Name: text, dtype: object"
      ]
     },
     "execution_count": 7,
     "metadata": {},
     "output_type": "execute_result"
    }
   ],
   "source": [
    "tweet_df[tweet_df.date <= \"2019-06-01\"].sample(10).text"
   ]
  },
  {
   "cell_type": "code",
   "execution_count": 8,
   "metadata": {},
   "outputs": [
    {
     "data": {
      "text/plain": [
       "(434, 5)"
      ]
     },
     "execution_count": 8,
     "metadata": {},
     "output_type": "execute_result"
    }
   ],
   "source": [
    "favorites.shape"
   ]
  },
  {
   "cell_type": "code",
   "execution_count": 9,
   "metadata": {},
   "outputs": [
    {
     "data": {
      "text/plain": [
       "count    988.000000\n",
       "mean       6.683198\n",
       "std       19.571288\n",
       "min        0.000000\n",
       "25%        2.000000\n",
       "50%        4.000000\n",
       "75%        8.000000\n",
       "max      581.000000\n",
       "Name: favorites, dtype: float64"
      ]
     },
     "execution_count": 9,
     "metadata": {},
     "output_type": "execute_result"
    }
   ],
   "source": [
    "#126, \n",
    "tweet_df.favorites.describe()"
   ]
  },
  {
   "cell_type": "code",
   "execution_count": 10,
   "metadata": {},
   "outputs": [
    {
     "data": {
      "text/html": [
       "<div>\n",
       "<style scoped>\n",
       "    .dataframe tbody tr th:only-of-type {\n",
       "        vertical-align: middle;\n",
       "    }\n",
       "\n",
       "    .dataframe tbody tr th {\n",
       "        vertical-align: top;\n",
       "    }\n",
       "\n",
       "    .dataframe thead th {\n",
       "        text-align: right;\n",
       "    }\n",
       "</style>\n",
       "<table border=\"1\" class=\"dataframe\">\n",
       "  <thead>\n",
       "    <tr style=\"text-align: right;\">\n",
       "      <th></th>\n",
       "      <th>text</th>\n",
       "      <th>date</th>\n",
       "      <th>favorites</th>\n",
       "      <th>retweets</th>\n",
       "      <th>hashtags</th>\n",
       "    </tr>\n",
       "  </thead>\n",
       "  <tbody>\n",
       "    <tr>\n",
       "      <td>0</td>\n",
       "      <td>mobius strips are overrated theyre just bracel...</td>\n",
       "      <td>2020-08-03 04:07:12+00:00</td>\n",
       "      <td>5</td>\n",
       "      <td>1</td>\n",
       "      <td></td>\n",
       "    </tr>\n",
       "    <tr>\n",
       "      <td>1</td>\n",
       "      <td>when is the next long weekend</td>\n",
       "      <td>2020-08-03 02:50:52+00:00</td>\n",
       "      <td>10</td>\n",
       "      <td>0</td>\n",
       "      <td></td>\n",
       "    </tr>\n",
       "    <tr>\n",
       "      <td>2</td>\n",
       "      <td>just realized that parasite's ramdon is a case...</td>\n",
       "      <td>2020-07-30 04:16:08+00:00</td>\n",
       "      <td>6</td>\n",
       "      <td>1</td>\n",
       "      <td></td>\n",
       "    </tr>\n",
       "    <tr>\n",
       "      <td>3</td>\n",
       "      <td>We are actually fucked lmao</td>\n",
       "      <td>2020-07-30 03:55:00+00:00</td>\n",
       "      <td>6</td>\n",
       "      <td>1</td>\n",
       "      <td></td>\n",
       "    </tr>\n",
       "    <tr>\n",
       "      <td>4</td>\n",
       "      <td>To this day i still have no idea when i should...</td>\n",
       "      <td>2020-07-30 03:48:42+00:00</td>\n",
       "      <td>2</td>\n",
       "      <td>0</td>\n",
       "      <td></td>\n",
       "    </tr>\n",
       "    <tr>\n",
       "      <td>...</td>\n",
       "      <td>...</td>\n",
       "      <td>...</td>\n",
       "      <td>...</td>\n",
       "      <td>...</td>\n",
       "      <td>...</td>\n",
       "    </tr>\n",
       "    <tr>\n",
       "      <td>983</td>\n",
       "      <td>Applies to the advice i give as well</td>\n",
       "      <td>2018-01-01 12:54:14+00:00</td>\n",
       "      <td>0</td>\n",
       "      <td>0</td>\n",
       "      <td></td>\n",
       "    </tr>\n",
       "    <tr>\n",
       "      <td>984</td>\n",
       "      <td>Jan 5-6 ah</td>\n",
       "      <td>2018-01-01 12:24:09+00:00</td>\n",
       "      <td>3</td>\n",
       "      <td>0</td>\n",
       "      <td></td>\n",
       "    </tr>\n",
       "    <tr>\n",
       "      <td>985</td>\n",
       "      <td>What was your favorite anime of 2017 and why i...</td>\n",
       "      <td>2018-01-01 05:38:32+00:00</td>\n",
       "      <td>0</td>\n",
       "      <td>0</td>\n",
       "      <td></td>\n",
       "    </tr>\n",
       "    <tr>\n",
       "      <td>986</td>\n",
       "      <td>M R . W O R L D W I D E</td>\n",
       "      <td>2018-01-01 03:32:46+00:00</td>\n",
       "      <td>0</td>\n",
       "      <td>0</td>\n",
       "      <td></td>\n",
       "    </tr>\n",
       "    <tr>\n",
       "      <td>987</td>\n",
       "      <td>New Year New Me jk cant wait to beg for soldie...</td>\n",
       "      <td>2018-01-01 02:18:09+00:00</td>\n",
       "      <td>2</td>\n",
       "      <td>0</td>\n",
       "      <td></td>\n",
       "    </tr>\n",
       "  </tbody>\n",
       "</table>\n",
       "<p>988 rows × 5 columns</p>\n",
       "</div>"
      ],
      "text/plain": [
       "                                                  text  \\\n",
       "0    mobius strips are overrated theyre just bracel...   \n",
       "1                        when is the next long weekend   \n",
       "2    just realized that parasite's ramdon is a case...   \n",
       "3                          We are actually fucked lmao   \n",
       "4    To this day i still have no idea when i should...   \n",
       "..                                                 ...   \n",
       "983               Applies to the advice i give as well   \n",
       "984                                         Jan 5-6 ah   \n",
       "985  What was your favorite anime of 2017 and why i...   \n",
       "986                            M R . W O R L D W I D E   \n",
       "987  New Year New Me jk cant wait to beg for soldie...   \n",
       "\n",
       "                         date  favorites  retweets hashtags  \n",
       "0   2020-08-03 04:07:12+00:00          5         1           \n",
       "1   2020-08-03 02:50:52+00:00         10         0           \n",
       "2   2020-07-30 04:16:08+00:00          6         1           \n",
       "3   2020-07-30 03:55:00+00:00          6         1           \n",
       "4   2020-07-30 03:48:42+00:00          2         0           \n",
       "..                        ...        ...       ...      ...  \n",
       "983 2018-01-01 12:54:14+00:00          0         0           \n",
       "984 2018-01-01 12:24:09+00:00          3         0           \n",
       "985 2018-01-01 05:38:32+00:00          0         0           \n",
       "986 2018-01-01 03:32:46+00:00          0         0           \n",
       "987 2018-01-01 02:18:09+00:00          2         0           \n",
       "\n",
       "[988 rows x 5 columns]"
      ]
     },
     "execution_count": 10,
     "metadata": {},
     "output_type": "execute_result"
    }
   ],
   "source": [
    "tweet_df"
   ]
  },
  {
   "cell_type": "code",
   "execution_count": 11,
   "metadata": {},
   "outputs": [
    {
     "data": {
      "text/html": [
       "<div>\n",
       "<style scoped>\n",
       "    .dataframe tbody tr th:only-of-type {\n",
       "        vertical-align: middle;\n",
       "    }\n",
       "\n",
       "    .dataframe tbody tr th {\n",
       "        vertical-align: top;\n",
       "    }\n",
       "\n",
       "    .dataframe thead th {\n",
       "        text-align: right;\n",
       "    }\n",
       "</style>\n",
       "<table border=\"1\" class=\"dataframe\">\n",
       "  <thead>\n",
       "    <tr style=\"text-align: right;\">\n",
       "      <th></th>\n",
       "      <th>text</th>\n",
       "      <th>date</th>\n",
       "      <th>favorites</th>\n",
       "      <th>retweets</th>\n",
       "      <th>hashtags</th>\n",
       "    </tr>\n",
       "  </thead>\n",
       "  <tbody>\n",
       "    <tr>\n",
       "      <td>310</td>\n",
       "      <td>my sister dyed her hair blue and she looks lik...</td>\n",
       "      <td>2019-05-31 10:51:05+00:00</td>\n",
       "      <td>10</td>\n",
       "      <td>0</td>\n",
       "      <td></td>\n",
       "    </tr>\n",
       "    <tr>\n",
       "      <td>245</td>\n",
       "      <td>The best thing abt jet lag is getting 3 am exi...</td>\n",
       "      <td>2019-07-04 20:32:13+00:00</td>\n",
       "      <td>10</td>\n",
       "      <td>1</td>\n",
       "      <td></td>\n",
       "    </tr>\n",
       "    <tr>\n",
       "      <td>272</td>\n",
       "      <td>Farenheit 451 is a book that reminds u that ur...</td>\n",
       "      <td>2019-06-20 12:22:38+00:00</td>\n",
       "      <td>10</td>\n",
       "      <td>1</td>\n",
       "      <td></td>\n",
       "    </tr>\n",
       "    <tr>\n",
       "      <td>792</td>\n",
       "      <td>Killmonger &gt; Thanos pa rin</td>\n",
       "      <td>2018-04-29 11:46:17+00:00</td>\n",
       "      <td>10</td>\n",
       "      <td>1</td>\n",
       "      <td></td>\n",
       "    </tr>\n",
       "    <tr>\n",
       "      <td>951</td>\n",
       "      <td>I WAS OUTSIDE STARBUCKS WHEN I SAW THE P2P OTW...</td>\n",
       "      <td>2018-01-23 09:14:45+00:00</td>\n",
       "      <td>10</td>\n",
       "      <td>0</td>\n",
       "      <td></td>\n",
       "    </tr>\n",
       "    <tr>\n",
       "      <td>851</td>\n",
       "      <td>i'm back from my exile my life actually got 10...</td>\n",
       "      <td>2018-03-31 17:59:24+00:00</td>\n",
       "      <td>10</td>\n",
       "      <td>1</td>\n",
       "      <td></td>\n",
       "    </tr>\n",
       "    <tr>\n",
       "      <td>612</td>\n",
       "      <td>back in 2016 i was confident that duterte woul...</td>\n",
       "      <td>2018-09-10 13:32:50+00:00</td>\n",
       "      <td>10</td>\n",
       "      <td>0</td>\n",
       "      <td></td>\n",
       "    </tr>\n",
       "    <tr>\n",
       "      <td>569</td>\n",
       "      <td>Friend: \"Which talab talks are you enlisting i...</td>\n",
       "      <td>2018-10-02 12:23:28+00:00</td>\n",
       "      <td>10</td>\n",
       "      <td>0</td>\n",
       "      <td></td>\n",
       "    </tr>\n",
       "    <tr>\n",
       "      <td>496</td>\n",
       "      <td>My stuff didnt get stolen</td>\n",
       "      <td>2018-12-09 10:40:43+00:00</td>\n",
       "      <td>10</td>\n",
       "      <td>1</td>\n",
       "      <td></td>\n",
       "    </tr>\n",
       "    <tr>\n",
       "      <td>948</td>\n",
       "      <td>all i wanted was for people to comment on the ...</td>\n",
       "      <td>2018-01-24 14:31:20+00:00</td>\n",
       "      <td>10</td>\n",
       "      <td>0</td>\n",
       "      <td></td>\n",
       "    </tr>\n",
       "  </tbody>\n",
       "</table>\n",
       "</div>"
      ],
      "text/plain": [
       "                                                  text  \\\n",
       "310  my sister dyed her hair blue and she looks lik...   \n",
       "245  The best thing abt jet lag is getting 3 am exi...   \n",
       "272  Farenheit 451 is a book that reminds u that ur...   \n",
       "792                         Killmonger > Thanos pa rin   \n",
       "951  I WAS OUTSIDE STARBUCKS WHEN I SAW THE P2P OTW...   \n",
       "851  i'm back from my exile my life actually got 10...   \n",
       "612  back in 2016 i was confident that duterte woul...   \n",
       "569  Friend: \"Which talab talks are you enlisting i...   \n",
       "496                          My stuff didnt get stolen   \n",
       "948  all i wanted was for people to comment on the ...   \n",
       "\n",
       "                         date  favorites  retweets hashtags  \n",
       "310 2019-05-31 10:51:05+00:00         10         0           \n",
       "245 2019-07-04 20:32:13+00:00         10         1           \n",
       "272 2019-06-20 12:22:38+00:00         10         1           \n",
       "792 2018-04-29 11:46:17+00:00         10         1           \n",
       "951 2018-01-23 09:14:45+00:00         10         0           \n",
       "851 2018-03-31 17:59:24+00:00         10         1           \n",
       "612 2018-09-10 13:32:50+00:00         10         0           \n",
       "569 2018-10-02 12:23:28+00:00         10         0           \n",
       "496 2018-12-09 10:40:43+00:00         10         1           \n",
       "948 2018-01-24 14:31:20+00:00         10         0           "
      ]
     },
     "execution_count": 11,
     "metadata": {},
     "output_type": "execute_result"
    }
   ],
   "source": [
    "tweet_df[tweet_df.favorites == 10].sample(10)"
   ]
  },
  {
   "cell_type": "code",
   "execution_count": 12,
   "metadata": {},
   "outputs": [
    {
     "data": {
      "text/plain": [
       "(659, 5)"
      ]
     },
     "execution_count": 12,
     "metadata": {},
     "output_type": "execute_result"
    }
   ],
   "source": [
    "tweet_df[tweet_df.favorites >= 3].shape"
   ]
  },
  {
   "cell_type": "code",
   "execution_count": 13,
   "metadata": {},
   "outputs": [
    {
     "data": {
      "text/plain": [
       "(288, 5)"
      ]
     },
     "execution_count": 13,
     "metadata": {},
     "output_type": "execute_result"
    }
   ],
   "source": [
    "tweet_df[tweet_df.retweets >= 1].shape"
   ]
  },
  {
   "cell_type": "code",
   "execution_count": 18,
   "metadata": {},
   "outputs": [
    {
     "data": {
      "text/plain": [
       "(988, 5)"
      ]
     },
     "execution_count": 18,
     "metadata": {},
     "output_type": "execute_result"
    }
   ],
   "source": [
    "tweet_df.shape"
   ]
  },
  {
   "cell_type": "code",
   "execution_count": 16,
   "metadata": {},
   "outputs": [],
   "source": [
    "tweet_df.to_csv(\"dataset.csv\")"
   ]
  },
  {
   "cell_type": "code",
   "execution_count": 17,
   "metadata": {},
   "outputs": [
    {
     "data": {
      "text/plain": [
       "<matplotlib.axes._subplots.AxesSubplot at 0x218388fb348>"
      ]
     },
     "execution_count": 17,
     "metadata": {},
     "output_type": "execute_result"
    },
    {
     "data": {
      "image/png": "[encoded data removed]",
      "text/plain": [
       "<Figure size 432x288 with 1 Axes>"
      ]
     },
     "metadata": {
      "needs_background": "light"
     },
     "output_type": "display_data"
    }
   ],
   "source": [
    "data = pd.read_csv(\"dataset.csv\")\n",
    "data.text.str.len().hist()"
   ]
  },
  {
   "cell_type": "code",
   "execution_count": null,
   "metadata": {},
   "outputs": [],
   "source": []
  }
 ],
 "metadata": {
  "kernelspec": {
   "display_name": "Python 3",
   "language": "python",
   "name": "python3"
  },
  "language_info": {
   "codemirror_mode": {
    "name": "ipython",
    "version": 3
   },
   "file_extension": ".py",
   "mimetype": "text/x-python",
   "name": "python",
   "nbconvert_exporter": "python",
   "pygments_lexer": "ipython3",
   "version": "3.7.4"
  }
 },
 "nbformat": 4,
 "nbformat_minor": 4
}
