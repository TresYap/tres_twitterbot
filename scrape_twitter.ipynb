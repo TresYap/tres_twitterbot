{
 "cells": [
  {
   "cell_type": "code",
   "execution_count": 2,
   "metadata": {},
   "outputs": [],
   "source": [
    "#test if the shit works\n",
    "import GetOldTweets3 as got\n",
    "import pandas as pd\n",
    "import numpy as np"
   ]
  },
  {
   "cell_type": "code",
   "execution_count": 36,
   "metadata": {},
   "outputs": [],
   "source": [
    "def scrape_tweets (username, start_date, top_tweets):\n",
    "    tweetCriteria = got.manager.TweetCriteria().setUsername(username)\\\n",
    "                                            .setTopTweets(top_tweets)\\\n",
    "                                            .setSince(start_date)\n",
    "    tweets = got.manager.TweetManager.getTweets(tweetCriteria)\n",
    "\n",
    "    user_tweets = [[tweet.text, tweet.date, tweet.favorites, tweet.retweets, tweet.hashtags] for tweet in tweets]\n",
    "    tweet_df = pd.DataFrame(user_tweets, columns=[\"text\", \"date\", \"favorites\", \"retweets\", \"hashtags\"])\n",
    "    return tweet_df"
   ]
  },
  {
   "cell_type": "code",
   "execution_count": 37,
   "metadata": {},
   "outputs": [
    {
     "name": "stdout",
     "output_type": "stream",
     "text": [
      "Wall time: 5min 57s\n"
     ]
    }
   ],
   "source": [
    "%%time\n",
    "tweet_df = scrape_tweets(\"Treysessy\", \"2018-01-01\", True)"
   ]
  },
  {
   "cell_type": "code",
   "execution_count": 38,
   "metadata": {},
   "outputs": [
    {
     "data": {
      "text/plain": [
       "(968, 5)"
      ]
     },
     "execution_count": 38,
     "metadata": {},
     "output_type": "execute_result"
    }
   ],
   "source": [
    "tweet_df.shape"
   ]
  },
  {
   "cell_type": "code",
   "execution_count": 39,
   "metadata": {},
   "outputs": [],
   "source": [
    "favorites = tweet_df[tweet_df.favorites >= 5]"
   ]
  },
  {
   "cell_type": "code",
   "execution_count": 40,
   "metadata": {},
   "outputs": [
    {
     "data": {
      "text/plain": [
       "'I love delaying events because of excruciating physical pain'"
      ]
     },
     "execution_count": 40,
     "metadata": {},
     "output_type": "execute_result"
    }
   ],
   "source": [
    "tweet_df.iloc[832].text"
   ]
  },
  {
   "cell_type": "code",
   "execution_count": 41,
   "metadata": {},
   "outputs": [
    {
     "data": {
      "text/plain": [
       "335    80% of philo is me saying \"wdym im supposed to...\n",
       "470                           maybe i should do my paper\n",
       "363                          I love optimal playthroughs\n",
       "318    when they told me to be excited about the futu...\n",
       "613    Studying philosophy Advantages: can laugh at p...\n",
       "804    Would it be convenient or inconvenient if an a...\n",
       "450    Disappearance of Haruhi Suzumiya has aged surp...\n",
       "493                  K-On is ruining my life i hate this\n",
       "364                            making a write up sux gdi\n",
       "291                       yes but what is the game about\n",
       "Name: text, dtype: object"
      ]
     },
     "execution_count": 41,
     "metadata": {},
     "output_type": "execute_result"
    }
   ],
   "source": [
    "tweet_df[tweet_df.date <= \"2019-06-01\"].sample(10).text"
   ]
  },
  {
   "cell_type": "code",
   "execution_count": 42,
   "metadata": {},
   "outputs": [
    {
     "data": {
      "text/plain": [
       "(418, 5)"
      ]
     },
     "execution_count": 42,
     "metadata": {},
     "output_type": "execute_result"
    }
   ],
   "source": [
    "favorites.shape"
   ]
  },
  {
   "cell_type": "code",
   "execution_count": 43,
   "metadata": {},
   "outputs": [
    {
     "data": {
      "text/plain": [
       "count    968.000000\n",
       "mean       6.685950\n",
       "std       19.948603\n",
       "min        0.000000\n",
       "25%        2.000000\n",
       "50%        4.000000\n",
       "75%        8.000000\n",
       "max      587.000000\n",
       "Name: favorites, dtype: float64"
      ]
     },
     "execution_count": 43,
     "metadata": {},
     "output_type": "execute_result"
    }
   ],
   "source": [
    "#126, \n",
    "tweet_df.favorites.describe()"
   ]
  },
  {
   "cell_type": "code",
   "execution_count": 44,
   "metadata": {},
   "outputs": [
    {
     "data": {
      "text/html": [
       "<div>\n",
       "<style scoped>\n",
       "    .dataframe tbody tr th:only-of-type {\n",
       "        vertical-align: middle;\n",
       "    }\n",
       "\n",
       "    .dataframe tbody tr th {\n",
       "        vertical-align: top;\n",
       "    }\n",
       "\n",
       "    .dataframe thead th {\n",
       "        text-align: right;\n",
       "    }\n",
       "</style>\n",
       "<table border=\"1\" class=\"dataframe\">\n",
       "  <thead>\n",
       "    <tr style=\"text-align: right;\">\n",
       "      <th></th>\n",
       "      <th>text</th>\n",
       "      <th>date</th>\n",
       "      <th>favorites</th>\n",
       "      <th>retweets</th>\n",
       "      <th>hashtags</th>\n",
       "    </tr>\n",
       "  </thead>\n",
       "  <tbody>\n",
       "    <tr>\n",
       "      <td>864</td>\n",
       "      <td>how the hell am i enjoying god's plan</td>\n",
       "      <td>2018-03-11 12:14:49+00:00</td>\n",
       "      <td>3</td>\n",
       "      <td>0</td>\n",
       "      <td></td>\n",
       "    </tr>\n",
       "    <tr>\n",
       "      <td>293</td>\n",
       "      <td>Why am i awake i want to go back to sleep</td>\n",
       "      <td>2019-05-31 01:32:10+00:00</td>\n",
       "      <td>3</td>\n",
       "      <td>0</td>\n",
       "      <td></td>\n",
       "    </tr>\n",
       "    <tr>\n",
       "      <td>398</td>\n",
       "      <td>Actually thought i was listening to under pres...</td>\n",
       "      <td>2019-02-05 10:55:58+00:00</td>\n",
       "      <td>3</td>\n",
       "      <td>0</td>\n",
       "      <td></td>\n",
       "    </tr>\n",
       "    <tr>\n",
       "      <td>541</td>\n",
       "      <td>Aw tres when did u become a weakshit cant even...</td>\n",
       "      <td>2018-10-09 04:29:00+00:00</td>\n",
       "      <td>3</td>\n",
       "      <td>0</td>\n",
       "      <td></td>\n",
       "    </tr>\n",
       "    <tr>\n",
       "      <td>785</td>\n",
       "      <td>Aw man aprils almost over that means i have to...</td>\n",
       "      <td>2018-04-21 04:16:51+00:00</td>\n",
       "      <td>3</td>\n",
       "      <td>0</td>\n",
       "      <td></td>\n",
       "    </tr>\n",
       "    <tr>\n",
       "      <td>359</td>\n",
       "      <td>Wtf is this iphone shit doing on my s8</td>\n",
       "      <td>2019-03-20 06:29:19+00:00</td>\n",
       "      <td>3</td>\n",
       "      <td>0</td>\n",
       "      <td></td>\n",
       "    </tr>\n",
       "    <tr>\n",
       "      <td>748</td>\n",
       "      <td>at least i know i'll never be haunted by ghost...</td>\n",
       "      <td>2018-05-12 14:23:37+00:00</td>\n",
       "      <td>3</td>\n",
       "      <td>0</td>\n",
       "      <td></td>\n",
       "    </tr>\n",
       "    <tr>\n",
       "      <td>42</td>\n",
       "      <td>Dammit he blocked me</td>\n",
       "      <td>2020-05-06 08:14:54+00:00</td>\n",
       "      <td>3</td>\n",
       "      <td>0</td>\n",
       "      <td></td>\n",
       "    </tr>\n",
       "    <tr>\n",
       "      <td>145</td>\n",
       "      <td>Didnt think id be going to two this year</td>\n",
       "      <td>2019-09-28 16:33:30+00:00</td>\n",
       "      <td>3</td>\n",
       "      <td>0</td>\n",
       "      <td></td>\n",
       "    </tr>\n",
       "    <tr>\n",
       "      <td>147</td>\n",
       "      <td>ew wtf wholesome tres is back brb i need to ki...</td>\n",
       "      <td>2019-09-26 15:08:37+00:00</td>\n",
       "      <td>3</td>\n",
       "      <td>0</td>\n",
       "      <td></td>\n",
       "    </tr>\n",
       "  </tbody>\n",
       "</table>\n",
       "</div>"
      ],
      "text/plain": [
       "                                                  text  \\\n",
       "864              how the hell am i enjoying god's plan   \n",
       "293          Why am i awake i want to go back to sleep   \n",
       "398  Actually thought i was listening to under pres...   \n",
       "541  Aw tres when did u become a weakshit cant even...   \n",
       "785  Aw man aprils almost over that means i have to...   \n",
       "359             Wtf is this iphone shit doing on my s8   \n",
       "748  at least i know i'll never be haunted by ghost...   \n",
       "42                                Dammit he blocked me   \n",
       "145           Didnt think id be going to two this year   \n",
       "147  ew wtf wholesome tres is back brb i need to ki...   \n",
       "\n",
       "                         date  favorites  retweets hashtags  \n",
       "864 2018-03-11 12:14:49+00:00          3         0           \n",
       "293 2019-05-31 01:32:10+00:00          3         0           \n",
       "398 2019-02-05 10:55:58+00:00          3         0           \n",
       "541 2018-10-09 04:29:00+00:00          3         0           \n",
       "785 2018-04-21 04:16:51+00:00          3         0           \n",
       "359 2019-03-20 06:29:19+00:00          3         0           \n",
       "748 2018-05-12 14:23:37+00:00          3         0           \n",
       "42  2020-05-06 08:14:54+00:00          3         0           \n",
       "145 2019-09-28 16:33:30+00:00          3         0           \n",
       "147 2019-09-26 15:08:37+00:00          3         0           "
      ]
     },
     "execution_count": 44,
     "metadata": {},
     "output_type": "execute_result"
    }
   ],
   "source": [
    "tweet_df[tweet_df.favorites == 3].sample(10)"
   ]
  },
  {
   "cell_type": "code",
   "execution_count": 45,
   "metadata": {},
   "outputs": [],
   "source": [
    "tweet_df[tweet_df.favorites >= 3].to_csv(\"dataset.csv\")"
   ]
  }
 ],
 "metadata": {
  "kernelspec": {
   "display_name": "Python 3",
   "language": "python",
   "name": "python3"
  },
  "language_info": {
   "codemirror_mode": {
    "name": "ipython",
    "version": 3
   },
   "file_extension": ".py",
   "mimetype": "text/x-python",
   "name": "python",
   "nbconvert_exporter": "python",
   "pygments_lexer": "ipython3",
   "version": "3.7.4"
  }
 },
 "nbformat": 4,
 "nbformat_minor": 4
}
